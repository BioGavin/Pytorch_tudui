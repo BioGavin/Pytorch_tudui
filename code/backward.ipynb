{
 "cells": [
  {
   "cell_type": "markdown",
   "metadata": {},
   "source": [
    "# 反向传播"
   ]
  },
  {
   "cell_type": "markdown",
   "metadata": {},
   "source": [
    "准备数据"
   ]
  },
  {
   "cell_type": "code",
   "execution_count": 1,
   "metadata": {},
   "outputs": [
    {
     "name": "stdout",
     "output_type": "stream",
     "text": [
      "Files already downloaded and verified\n"
     ]
    }
   ],
   "source": [
    "import torchvision\n",
    "from torch.utils.data import DataLoader\n",
    "\n",
    "dataset = torchvision.datasets.CIFAR10(root='../dataset',\n",
    "                                       train = False,\n",
    "                                       transform=torchvision.transforms.ToTensor(),\n",
    "                                       download=True)\n",
    "dataloader = DataLoader(dataset=dataset, batch_size=64)"
   ]
  },
  {
   "cell_type": "markdown",
   "metadata": {},
   "source": [
    "自定义网络"
   ]
  },
  {
   "cell_type": "code",
   "execution_count": 2,
   "metadata": {},
   "outputs": [],
   "source": [
    "from torch import nn\n",
    "class Tudui(nn.Module):\n",
    "    def __init__(self):\n",
    "        super(Tudui, self).__init__()\n",
    "        self.model1 = nn.Sequential(\n",
    "            nn.Conv2d(3,32,5,padding=2),\n",
    "            nn.MaxPool2d(2),\n",
    "            nn.Conv2d(32,32,5,padding=2),\n",
    "            nn.MaxPool2d(2),\n",
    "            nn.Conv2d(32,64,5,padding=2),\n",
    "            nn.MaxPool2d(2),\n",
    "            nn.Flatten(),\n",
    "            nn.Linear(1024,64),\n",
    "            nn.Linear(64,10)\n",
    "        )\n",
    "    def forward(self, x):\n",
    "        x = self.model1(x)\n",
    "        return x"
   ]
  },
  {
   "cell_type": "markdown",
   "metadata": {},
   "source": [
    "定义 Loss"
   ]
  },
  {
   "cell_type": "code",
   "execution_count": 3,
   "metadata": {},
   "outputs": [],
   "source": [
    "cross_loss = nn.CrossEntropyLoss()"
   ]
  },
  {
   "cell_type": "markdown",
   "metadata": {},
   "source": [
    "训练"
   ]
  },
  {
   "cell_type": "code",
   "execution_count": 4,
   "metadata": {},
   "outputs": [
    {
     "name": "stdout",
     "output_type": "stream",
     "text": [
      "loss: 2.2896006107330322\n",
      "loss: 2.3164830207824707\n",
      "loss: 2.286716938018799\n",
      "loss: 2.3038997650146484\n",
      "loss: 2.3080005645751953\n",
      "loss: 2.3062238693237305\n",
      "loss: 2.319248676300049\n",
      "loss: 2.291827917098999\n",
      "loss: 2.292191743850708\n",
      "loss: 2.295438528060913\n",
      "loss: 2.316225528717041\n",
      "loss: 2.304218292236328\n",
      "loss: 2.315479040145874\n",
      "loss: 2.331749677658081\n",
      "loss: 2.3100967407226562\n",
      "loss: 2.3054616451263428\n",
      "loss: 2.304816484451294\n",
      "loss: 2.3016982078552246\n",
      "loss: 2.3245737552642822\n",
      "loss: 2.302698850631714\n",
      "loss: 2.2884902954101562\n",
      "loss: 2.3099253177642822\n",
      "loss: 2.31408429145813\n",
      "loss: 2.3085861206054688\n",
      "loss: 2.298302412033081\n",
      "loss: 2.3098223209381104\n",
      "loss: 2.2862367630004883\n",
      "loss: 2.3097903728485107\n",
      "loss: 2.2969090938568115\n",
      "loss: 2.301513433456421\n",
      "loss: 2.3083345890045166\n",
      "loss: 2.2944953441619873\n",
      "loss: 2.310399055480957\n",
      "loss: 2.3057615756988525\n",
      "loss: 2.305283308029175\n",
      "loss: 2.3064002990722656\n",
      "loss: 2.310633659362793\n",
      "loss: 2.2899861335754395\n",
      "loss: 2.290747880935669\n",
      "loss: 2.3017537593841553\n",
      "loss: 2.296516180038452\n",
      "loss: 2.3194751739501953\n",
      "loss: 2.2961032390594482\n",
      "loss: 2.3262505531311035\n",
      "loss: 2.3105692863464355\n",
      "loss: 2.3107967376708984\n",
      "loss: 2.3028581142425537\n",
      "loss: 2.322704553604126\n",
      "loss: 2.310563564300537\n",
      "loss: 2.3078486919403076\n",
      "loss: 2.309570074081421\n",
      "loss: 2.300255060195923\n",
      "loss: 2.3114898204803467\n",
      "loss: 2.2909646034240723\n",
      "loss: 2.3135805130004883\n",
      "loss: 2.302279233932495\n",
      "loss: 2.318420886993408\n",
      "loss: 2.3004586696624756\n",
      "loss: 2.313157320022583\n",
      "loss: 2.3081588745117188\n",
      "loss: 2.309396505355835\n",
      "loss: 2.304582357406616\n",
      "loss: 2.2993180751800537\n",
      "loss: 2.3139097690582275\n",
      "loss: 2.302680015563965\n",
      "loss: 2.3154263496398926\n",
      "loss: 2.292632579803467\n",
      "loss: 2.3083367347717285\n",
      "loss: 2.304321050643921\n",
      "loss: 2.316927671432495\n",
      "loss: 2.312030076980591\n",
      "loss: 2.311999797821045\n",
      "loss: 2.3081555366516113\n",
      "loss: 2.299989700317383\n",
      "loss: 2.297441244125366\n",
      "loss: 2.3235361576080322\n",
      "loss: 2.308872938156128\n",
      "loss: 2.317237615585327\n",
      "loss: 2.318890333175659\n",
      "loss: 2.2971956729888916\n",
      "loss: 2.3012800216674805\n",
      "loss: 2.326113224029541\n",
      "loss: 2.303635597229004\n",
      "loss: 2.3282244205474854\n",
      "loss: 2.3070154190063477\n",
      "loss: 2.303248167037964\n",
      "loss: 2.3084986209869385\n",
      "loss: 2.300201416015625\n",
      "loss: 2.3045661449432373\n",
      "loss: 2.300333023071289\n",
      "loss: 2.309985399246216\n",
      "loss: 2.3045835494995117\n",
      "loss: 2.3010289669036865\n",
      "loss: 2.2907907962799072\n",
      "loss: 2.2979190349578857\n",
      "loss: 2.3140745162963867\n",
      "loss: 2.3237624168395996\n",
      "loss: 2.2898545265197754\n",
      "loss: 2.3083715438842773\n",
      "loss: 2.312467575073242\n",
      "loss: 2.3019487857818604\n",
      "loss: 2.300851821899414\n",
      "loss: 2.3024826049804688\n",
      "loss: 2.2982876300811768\n",
      "loss: 2.3045973777770996\n",
      "loss: 2.3032236099243164\n",
      "loss: 2.3208916187286377\n",
      "loss: 2.2942466735839844\n",
      "loss: 2.289370059967041\n",
      "loss: 2.3308825492858887\n",
      "loss: 2.3024539947509766\n",
      "loss: 2.297956705093384\n",
      "loss: 2.3237757682800293\n",
      "loss: 2.3097681999206543\n",
      "loss: 2.296895742416382\n",
      "loss: 2.3154006004333496\n",
      "loss: 2.301548480987549\n",
      "loss: 2.297278881072998\n",
      "loss: 2.313601493835449\n",
      "loss: 2.299536943435669\n",
      "loss: 2.3065710067749023\n",
      "loss: 2.2982184886932373\n",
      "loss: 2.3118815422058105\n",
      "loss: 2.329402208328247\n",
      "loss: 2.311830759048462\n",
      "loss: 2.318108320236206\n",
      "loss: 2.305184841156006\n",
      "loss: 2.2905030250549316\n",
      "loss: 2.3241724967956543\n",
      "loss: 2.3013548851013184\n",
      "loss: 2.313225269317627\n",
      "loss: 2.3033151626586914\n",
      "loss: 2.312385320663452\n",
      "loss: 2.3054428100585938\n",
      "loss: 2.3202297687530518\n",
      "loss: 2.308983325958252\n",
      "loss: 2.30765700340271\n",
      "loss: 2.3005530834198\n",
      "loss: 2.287256956100464\n",
      "loss: 2.292710781097412\n",
      "loss: 2.3003928661346436\n",
      "loss: 2.294306993484497\n",
      "loss: 2.3100028038024902\n",
      "loss: 2.300264358520508\n",
      "loss: 2.3208296298980713\n",
      "loss: 2.315143585205078\n",
      "loss: 2.294903039932251\n",
      "loss: 2.3142952919006348\n",
      "loss: 2.2932300567626953\n",
      "loss: 2.3051068782806396\n",
      "loss: 2.288591146469116\n",
      "loss: 2.304142951965332\n",
      "loss: 2.302072048187256\n",
      "loss: 2.314326763153076\n",
      "loss: 2.297982692718506\n",
      "loss: 2.3130481243133545\n",
      "loss: 2.3272016048431396\n"
     ]
    }
   ],
   "source": [
    "tudui = Tudui()\n",
    "for data in dataloader:\n",
    "    imgs, targets = data\n",
    "    output = tudui(imgs)\n",
    "    loss = cross_loss(output, targets)\n",
    "    loss.backward()\n",
    "    print(f'loss: {loss}')"
   ]
  }
 ],
 "metadata": {
  "interpreter": {
   "hash": "52dd0c64a36d2af617eea8ef4f5ca4442281a5a123539daa9fa5ea89b340b808"
  },
  "kernelspec": {
   "display_name": "Python 3.9.0 ('torch')",
   "language": "python",
   "name": "python3"
  },
  "language_info": {
   "codemirror_mode": {
    "name": "ipython",
    "version": 3
   },
   "file_extension": ".py",
   "mimetype": "text/x-python",
   "name": "python",
   "nbconvert_exporter": "python",
   "pygments_lexer": "ipython3",
   "version": "3.9.7"
  },
  "orig_nbformat": 4
 },
 "nbformat": 4,
 "nbformat_minor": 2
}
