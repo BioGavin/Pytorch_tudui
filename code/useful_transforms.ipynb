{
 "cells": [
  {
   "cell_type": "markdown",
   "metadata": {},
   "source": [
    "# 记录一些常用的 transforms"
   ]
  },
  {
   "cell_type": "code",
   "execution_count": 4,
   "metadata": {},
   "outputs": [],
   "source": [
    "# 读取一张图片\n",
    "from PIL import Image\n",
    "img_path = \"../dataset/hymenoptera_data/train/ants/0013035.jpg\"\n",
    "img = Image.open(img_path)"
   ]
  },
  {
   "cell_type": "markdown",
   "metadata": {},
   "source": [
    "1. Normalize 归一化"
   ]
  },
  {
   "cell_type": "code",
   "execution_count": 5,
   "metadata": {},
   "outputs": [
    {
     "name": "stdout",
     "output_type": "stream",
     "text": [
      "before_norm: 0.3137255012989044\n",
      "after_norm: -0.37254899740219116\n"
     ]
    }
   ],
   "source": [
    "from torchvision import transforms\n",
    "trans_tensor = transforms.ToTensor()\n",
    "img_tensor = trans_tensor(img)\n",
    "trans_norm = transforms.Normalize([0.5,0.5,0.5],[0.5,0.5,0.5]) # mean, std=0.5, 0.5\n",
    "img_norm = trans_norm(img_tensor) # output[channel] = (input[channel] - mean[channel]) / std[channel]\n",
    "print(f'before_norm: {img_tensor[0][0][0]}')\n",
    "print(f'after_norm: {img_norm[0][0][0]}')"
   ]
  },
  {
   "cell_type": "code",
   "execution_count": 6,
   "metadata": {},
   "outputs": [],
   "source": [
    "from torch.utils.tensorboard import SummaryWriter\n",
    "writer = SummaryWriter('useful_transforms_log')\n",
    "writer.add_image('ToTensor', img_tensor)\n",
    "writer.add_image('Normalize', img_norm)"
   ]
  },
  {
   "cell_type": "markdown",
   "metadata": {},
   "source": [
    "2. Resize 调整大小"
   ]
  },
  {
   "cell_type": "code",
   "execution_count": 7,
   "metadata": {},
   "outputs": [
    {
     "name": "stdout",
     "output_type": "stream",
     "text": [
      "before_resize: (768, 512)\n",
      "after_resize: (512, 512)\n"
     ]
    }
   ],
   "source": [
    "trans_resize = transforms.Resize((512,512))\n",
    "# img PIL -> resize -> img_resize PIL\n",
    "img_resize = trans_resize(img)\n",
    "print(f'before_resize: {img.size}')\n",
    "print(f'after_resize: {img_resize.size}')\n",
    "writer.add_image('Resize', trans_tensor(img_resize))"
   ]
  },
  {
   "cell_type": "markdown",
   "metadata": {},
   "source": [
    "3. Compose 组合命令\n",
    "\n",
    "Compose()中的参数需要的是一个列表，列表中的元素需要时 transforms 类型"
   ]
  },
  {
   "cell_type": "code",
   "execution_count": 8,
   "metadata": {},
   "outputs": [
    {
     "name": "stdout",
     "output_type": "stream",
     "text": [
      "before_resize: (768, 512)\n",
      "after_resize: torch.Size([3, 128, 192])\n"
     ]
    }
   ],
   "source": [
    "trans_resize_2 = transforms.Resize((128)) # 等比缩放\n",
    "trans_comp = transforms.Compose([trans_resize_2, trans_tensor])\n",
    "img_comp = trans_comp(img)\n",
    "print(f'before_resize: {img.size}')\n",
    "print(f'after_resize: {img_comp.shape}')\n",
    "writer.add_image('Compose', img_comp)"
   ]
  },
  {
   "cell_type": "markdown",
   "metadata": {},
   "source": [
    "4. RandomCrop 随机裁剪"
   ]
  },
  {
   "cell_type": "code",
   "execution_count": 9,
   "metadata": {},
   "outputs": [],
   "source": [
    "trans_random = transforms.RandomCrop(64)\n",
    "trans_comp_2 = transforms.Compose([trans_random, trans_tensor])\n",
    "for i in range(10):\n",
    "    img_crop = trans_comp_2(img)\n",
    "    writer.add_image('RandomCrop', img_comp, i)"
   ]
  },
  {
   "cell_type": "code",
   "execution_count": 10,
   "metadata": {},
   "outputs": [],
   "source": [
    "writer.close()"
   ]
  }
 ],
 "metadata": {
  "interpreter": {
   "hash": "52dd0c64a36d2af617eea8ef4f5ca4442281a5a123539daa9fa5ea89b340b808"
  },
  "kernelspec": {
   "display_name": "Python 3.8.11 ('torch')",
   "language": "python",
   "name": "python3"
  },
  "language_info": {
   "codemirror_mode": {
    "name": "ipython",
    "version": 3
   },
   "file_extension": ".py",
   "mimetype": "text/x-python",
   "name": "python",
   "nbconvert_exporter": "python",
   "pygments_lexer": "ipython3",
   "version": "3.9.7"
  },
  "orig_nbformat": 4
 },
 "nbformat": 4,
 "nbformat_minor": 2
}
