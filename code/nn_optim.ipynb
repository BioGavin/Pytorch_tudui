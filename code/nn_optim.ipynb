{
 "cells": [
  {
   "cell_type": "markdown",
   "metadata": {},
   "source": [
    "# 优化器"
   ]
  },
  {
   "cell_type": "code",
   "execution_count": 25,
   "metadata": {},
   "outputs": [
    {
     "name": "stdout",
     "output_type": "stream",
     "text": [
      "Files already downloaded and verified\n"
     ]
    }
   ],
   "source": [
    "import torchvision\n",
    "from torch.utils.data import DataLoader\n",
    "dataset = torchvision.datasets.CIFAR10(\"../dataset\",train=False,transform=torchvision.transforms.ToTensor(),download=True)\n",
    "dataloader = DataLoader(dataset=dataset, batch_size=64)"
   ]
  },
  {
   "cell_type": "code",
   "execution_count": 26,
   "metadata": {},
   "outputs": [],
   "source": [
    "from torch import nn\n",
    "from torch.nn import Sequential, Conv2d, MaxPool2d, Linear, Flatten\n",
    "class Tudui(nn.Module):\n",
    "    def __init__(self):\n",
    "        super(Tudui, self).__init__()\n",
    "        self.model1 = Sequential(\n",
    "            Conv2d(3,32,5,padding=2),\n",
    "            MaxPool2d(2),\n",
    "            Conv2d(32,32,5,padding=2),\n",
    "            MaxPool2d(2),\n",
    "            Conv2d(32,64,5,padding=2),\n",
    "            MaxPool2d(2),\n",
    "            Flatten(),\n",
    "            Linear(1024, 64),\n",
    "            Linear(64,10)\n",
    "        )\n",
    "    \n",
    "    def forward(self, x):\n",
    "        x = self.model1(x)\n",
    "        return x"
   ]
  },
  {
   "cell_type": "code",
   "execution_count": 29,
   "metadata": {},
   "outputs": [
    {
     "name": "stdout",
     "output_type": "stream",
     "text": [
      "tensor(360.9401, grad_fn=<AddBackward0>)\n",
      "tensor(353.6125, grad_fn=<AddBackward0>)\n",
      "tensor(329.0341, grad_fn=<AddBackward0>)\n",
      "tensor(318.0073, grad_fn=<AddBackward0>)\n",
      "tensor(311.6714, grad_fn=<AddBackward0>)\n",
      "tensor(305.6368, grad_fn=<AddBackward0>)\n",
      "tensor(297.6261, grad_fn=<AddBackward0>)\n",
      "tensor(288.3227, grad_fn=<AddBackward0>)\n",
      "tensor(281.1780, grad_fn=<AddBackward0>)\n",
      "tensor(275.0205, grad_fn=<AddBackward0>)\n",
      "tensor(269.5119, grad_fn=<AddBackward0>)\n",
      "tensor(264.3706, grad_fn=<AddBackward0>)\n",
      "tensor(259.3814, grad_fn=<AddBackward0>)\n",
      "tensor(254.4522, grad_fn=<AddBackward0>)\n",
      "tensor(249.6886, grad_fn=<AddBackward0>)\n",
      "tensor(245.3104, grad_fn=<AddBackward0>)\n",
      "tensor(241.3165, grad_fn=<AddBackward0>)\n",
      "tensor(237.6768, grad_fn=<AddBackward0>)\n",
      "tensor(234.2870, grad_fn=<AddBackward0>)\n",
      "tensor(231.0849, grad_fn=<AddBackward0>)\n"
     ]
    }
   ],
   "source": [
    "from torch import optim\n",
    "loss = nn.CrossEntropyLoss()\n",
    "tudui = Tudui()\n",
    "# 设置优化器\n",
    "optim = optim.SGD(tudui.parameters(), lr=0.01)\n",
    "num_epoch = 20\n",
    "for n in range(num_epoch):\n",
    "    running_loss = 0.0\n",
    "    for data in dataloader:\n",
    "        imgs, target = data\n",
    "        outputs = tudui(imgs)\n",
    "        result_loss = loss(outputs, target)\n",
    "        optim.zero_grad()\n",
    "        result_loss.backward()\n",
    "        optim.step()\n",
    "        running_loss += result_loss\n",
    "    print(running_loss)\n",
    "    "
   ]
  }
 ],
 "metadata": {
  "interpreter": {
   "hash": "7e831b3ce9823cb67e1565114914c682a09a30f0d809cabae2403af61da9a1f0"
  },
  "kernelspec": {
   "display_name": "Python 3.9.0 ('pytorch')",
   "language": "python",
   "name": "python3"
  },
  "language_info": {
   "codemirror_mode": {
    "name": "ipython",
    "version": 3
   },
   "file_extension": ".py",
   "mimetype": "text/x-python",
   "name": "python",
   "nbconvert_exporter": "python",
   "pygments_lexer": "ipython3",
   "version": "3.9.7"
  },
  "orig_nbformat": 4
 },
 "nbformat": 4,
 "nbformat_minor": 2
}
