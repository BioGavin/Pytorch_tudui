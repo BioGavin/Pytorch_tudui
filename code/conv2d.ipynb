{
 "cells": [
  {
   "cell_type": "markdown",
   "metadata": {},
   "source": [
    "# 卷积运算"
   ]
  },
  {
   "cell_type": "code",
   "execution_count": 1,
   "metadata": {},
   "outputs": [
    {
     "name": "stdout",
     "output_type": "stream",
     "text": [
      "input_shape: torch.Size([5, 5])\n",
      "kernel_shape: torch.Size([3, 3])\n"
     ]
    }
   ],
   "source": [
    "import torch\n",
    "# 设定一个输入 tensor\n",
    "input = torch.tensor([[1,2,0,3,1],\n",
    "                      [0,1,2,3,1],\n",
    "                      [1,2,1,0,0],\n",
    "                      [5,2,3,1,1],\n",
    "                      [2,1,0,1,1]])\n",
    "# 设定一个卷积核 kernel\n",
    "kernel = torch.tensor([[1,2,1],\n",
    "                       [0,1,0],\n",
    "                       [2,1,0]])\n",
    "print(f'input_shape: {input.shape}')\n",
    "print(f'kernel_shape: {kernel.shape}')\n"
   ]
  },
  {
   "cell_type": "markdown",
   "metadata": {},
   "source": [
    "由于 nn.covn2d 的运算是四维张量，需要对目前的 tensor 进行reshape\n",
    "\n",
    "对图片卷积中四维的理解：每个维度分别对应\n",
    "1. 每个 batch 里面图片的张数，即 batch_size\n",
    "2. 每张图片的 channel 数，通常一张图片有 RGB 3个 channel\n",
    "3. 每张图片的高\n",
    "4. 每张图片的宽"
   ]
  },
  {
   "cell_type": "code",
   "execution_count": 2,
   "metadata": {},
   "outputs": [],
   "source": [
    "input = torch.reshape(input, (1,1,5,5))\n",
    "kernel = torch.reshape(kernel, (1,1,3,3))"
   ]
  },
  {
   "cell_type": "markdown",
   "metadata": {},
   "source": [
    "卷积函数计算"
   ]
  },
  {
   "cell_type": "code",
   "execution_count": 3,
   "metadata": {},
   "outputs": [
    {
     "data": {
      "text/plain": [
       "tensor([[[[10, 12, 12],\n",
       "          [18, 16, 16],\n",
       "          [13,  9,  3]]]])"
      ]
     },
     "execution_count": 3,
     "metadata": {},
     "output_type": "execute_result"
    }
   ],
   "source": [
    "import torch.nn.functional as F\n",
    "output1 = F.conv2d(input=input, weight=kernel, bias=None, stride=1, padding=0)\n",
    "output1"
   ]
  },
  {
   "cell_type": "code",
   "execution_count": 4,
   "metadata": {},
   "outputs": [
    {
     "data": {
      "text/plain": [
       "tensor([[[[10, 12],\n",
       "          [13,  3]]]])"
      ]
     },
     "execution_count": 4,
     "metadata": {},
     "output_type": "execute_result"
    }
   ],
   "source": [
    "output2 = F.conv2d(input=input, weight=kernel, bias=None, stride=2, padding=0)\n",
    "output2"
   ]
  },
  {
   "cell_type": "markdown",
   "metadata": {},
   "source": [
    "padding 的处理过程\n",
    "\n",
    "padding=n 时，会在上下左右都添加n行或n列，默认填充值为0"
   ]
  },
  {
   "cell_type": "code",
   "execution_count": 5,
   "metadata": {},
   "outputs": [
    {
     "data": {
      "text/plain": [
       "tensor([[[[ 1,  3,  4, 10,  8],\n",
       "          [ 5, 10, 12, 12,  6],\n",
       "          [ 7, 18, 16, 16,  8],\n",
       "          [11, 13,  9,  3,  4],\n",
       "          [14, 13,  9,  7,  4]]]])"
      ]
     },
     "execution_count": 5,
     "metadata": {},
     "output_type": "execute_result"
    }
   ],
   "source": [
    "output2 = F.conv2d(input=input, weight=kernel, bias=None, stride=1, padding=1)\n",
    "output2"
   ]
  }
 ],
 "metadata": {
  "interpreter": {
   "hash": "52dd0c64a36d2af617eea8ef4f5ca4442281a5a123539daa9fa5ea89b340b808"
  },
  "kernelspec": {
   "display_name": "Python 3.9.0 ('torch')",
   "language": "python",
   "name": "python3"
  },
  "language_info": {
   "codemirror_mode": {
    "name": "ipython",
    "version": 3
   },
   "file_extension": ".py",
   "mimetype": "text/x-python",
   "name": "python",
   "nbconvert_exporter": "python",
   "pygments_lexer": "ipython3",
   "version": "3.9.7"
  },
  "orig_nbformat": 4
 },
 "nbformat": 4,
 "nbformat_minor": 2
}
